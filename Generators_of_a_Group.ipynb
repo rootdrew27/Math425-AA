{
  "nbformat": 4,
  "nbformat_minor": 0,
  "metadata": {
    "colab": {
      "provenance": [],
      "authorship_tag": "ABX9TyNhQItrIGJX0okyC5of29D+",
      "include_colab_link": true
    },
    "kernelspec": {
      "name": "python3",
      "display_name": "Python 3"
    },
    "language_info": {
      "name": "python"
    }
  },
  "cells": [
    {
      "cell_type": "markdown",
      "metadata": {
        "id": "view-in-github",
        "colab_type": "text"
      },
      "source": [
        "<a href=\"https://colab.research.google.com/github/rootdrew27/Math425-AA/blob/main/Generators_of_a_Group.ipynb\" target=\"_parent\"><img src=\"https://colab.research.google.com/assets/colab-badge.svg\" alt=\"Open In Colab\"/></a>"
      ]
    },
    {
      "cell_type": "code",
      "execution_count": null,
      "metadata": {
        "colab": {
          "base_uri": "https://localhost:8080/"
        },
        "id": "e4m-_VX69RKo",
        "outputId": "550bc961-90ab-4017-93e1-354ab3aaa652"
      },
      "outputs": [
        {
          "output_type": "stream",
          "name": "stdout",
          "text": [
            "Requirement already satisfied: sympy in /usr/local/lib/python3.10/dist-packages (1.12)\n",
            "Requirement already satisfied: mpmath>=0.19 in /usr/local/lib/python3.10/dist-packages (from sympy) (1.3.0)\n"
          ]
        }
      ],
      "source": [
        "!pip install sympy"
      ]
    },
    {
      "cell_type": "code",
      "source": [
        "import numpy as np"
      ],
      "metadata": {
        "id": "zCvMTHg8-OcR"
      },
      "execution_count": 2,
      "outputs": []
    },
    {
      "cell_type": "code",
      "source": [
        "results = {}\n",
        "\n",
        "for g in [1, 3, 5, 7, 9, 11, 15, 17, 19, 21, 23, 25]:\n",
        "  results[g] = None\n",
        "  g_list = []\n",
        "  for k in range(1, 26):\n",
        "    g_list.append((k, np.power(g,k) % 26))\n",
        "  results[g] = set(g_list)\n",
        "\n",
        "print(sorted(results[7], key=lambda x : x[0]))\n"
      ],
      "metadata": {
        "colab": {
          "base_uri": "https://localhost:8080/"
        },
        "id": "sKrBdJPT9a4Z",
        "outputId": "f09cf0ec-af06-4dd2-d6c9-5d180a9087da"
      },
      "execution_count": 9,
      "outputs": [
        {
          "output_type": "stream",
          "name": "stdout",
          "text": [
            "[(1, 7), (2, 23), (3, 5), (4, 9), (5, 11), (6, 25), (7, 19), (8, 3), (9, 21), (10, 17), (11, 15), (12, 1), (13, 7), (14, 23), (15, 5), (16, 9), (17, 11), (18, 25), (19, 19), (20, 3), (21, 21), (22, 17), (23, 25), (24, 23), (25, 9)]\n"
          ]
        }
      ]
    },
    {
      "cell_type": "code",
      "source": [
        "from sympy.core.numbers import Number\n",
        "\n",
        "def get_multiplicative_units_wrt_zmodn(n):\n",
        "\n",
        "  units = []\n",
        "\n",
        "  elements = range(1, n + 1) # elements in the group Z mod n, under multiplication\n",
        "\n",
        "  # if the gcd of n and an element equals 1 then it is a unit\n",
        "  for g in elements:\n",
        "    g1 = Number(g)\n",
        "    if g1.gcd(n) == 1:\n",
        "      units.append(g)\n",
        "\n",
        "  return units\n"
      ],
      "metadata": {
        "id": "aFOnJKJtrjRi"
      },
      "execution_count": 5,
      "outputs": []
    },
    {
      "cell_type": "code",
      "source": [
        "units = get_multiplicative_units_wrt_zmodn(9)"
      ],
      "metadata": {
        "id": "fc34lB5f8BQz"
      },
      "execution_count": 16,
      "outputs": []
    },
    {
      "cell_type": "code",
      "source": [
        "print(units)"
      ],
      "metadata": {
        "colab": {
          "base_uri": "https://localhost:8080/"
        },
        "id": "l9nyl2H2EnNr",
        "outputId": "1771692b-6b42-42a1-a579-6281840a3ce5"
      },
      "execution_count": 12,
      "outputs": [
        {
          "output_type": "stream",
          "name": "stdout",
          "text": [
            "[1, 2, 4, 5, 7, 8]\n"
          ]
        }
      ]
    },
    {
      "cell_type": "code",
      "source": [
        "# assume that the order of g is finite. Thus, there exists an n such that g^n = 1 (n is the order of g)\n",
        "# use this method with disgression\n",
        "\n",
        "def get_generator_series_wrt_zmodn(g:int, n:int):\n",
        "  # generate elements until the identity is reached\n",
        "\n",
        "  generated_eles = []\n",
        "\n",
        "  # it may require more n iterations to recognize the pattern\n",
        "  for i in range(1, n):\n",
        "    generated_eles.append(np.power(g, i) % n)\n",
        "\n",
        "  return generated_eles\n",
        "\n",
        "\n",
        "def get_generator_series_wrt_zmodn(generators:tuple, n:int):\n",
        "\n",
        "  generated_eles = []\n",
        "\n",
        "  for i in range(1, n):\n",
        "    for j in range(1, n):\n",
        "      generated_eles.append(np.power(generators[0], i)* np.power(generators[1], j) % n)\n",
        "\n",
        "  return set(generated_eles)"
      ],
      "metadata": {
        "id": "QnuhXRqLwpzm"
      },
      "execution_count": 51,
      "outputs": []
    },
    {
      "cell_type": "code",
      "source": [
        "# !!!this method does not currently check if the subgroup contains only elements from the group\n",
        "\n",
        "def is_proper_subgroup(subg:list, group:list):\n",
        "\n",
        "  subg = set(subg)\n",
        "\n",
        "  for ele in set(group):\n",
        "    if ele not in subg:\n",
        "      return True\n",
        "\n",
        "  return False"
      ],
      "metadata": {
        "id": "rn6ufM9xFkva"
      },
      "execution_count": 48,
      "outputs": []
    },
    {
      "cell_type": "code",
      "source": [
        "for x in units:\n",
        "  print(get_generator_series_wrt_zmodn(x, 9))"
      ],
      "metadata": {
        "colab": {
          "base_uri": "https://localhost:8080/"
        },
        "id": "yuGqedQfaKYd",
        "outputId": "6b5f60b5-9f94-4257-cc9e-a3a2c2062b33"
      },
      "execution_count": 13,
      "outputs": [
        {
          "output_type": "stream",
          "name": "stdout",
          "text": [
            "[1, 1, 1, 1, 1, 1, 1, 1]\n",
            "[2, 4, 8, 7, 5, 1, 2, 4]\n",
            "[4, 7, 1, 4, 7, 1, 4, 7]\n",
            "[5, 7, 8, 4, 2, 1, 5, 7]\n",
            "[7, 4, 1, 7, 4, 1, 7, 4]\n",
            "[8, 1, 8, 1, 8, 1, 8, 1]\n"
          ]
        }
      ]
    },
    {
      "cell_type": "code",
      "source": [
        "is_proper_subgroup(get_generator_series_wrt_zmodn(5, 9), units)"
      ],
      "metadata": {
        "colab": {
          "base_uri": "https://localhost:8080/"
        },
        "id": "xpV9LeXqHBQr",
        "outputId": "4fa84138-e180-44b7-84ce-f377110a37e9"
      },
      "execution_count": 47,
      "outputs": [
        {
          "output_type": "execute_result",
          "data": {
            "text/plain": [
              "False"
            ]
          },
          "metadata": {},
          "execution_count": 47
        }
      ]
    },
    {
      "cell_type": "markdown",
      "source": [
        "1, 4, 7, 8"
      ],
      "metadata": {
        "id": "c7gjSR5bIY6b"
      }
    },
    {
      "cell_type": "code",
      "source": [
        "get_generator_series_wrt_zmodn((4, 8), 9)"
      ],
      "metadata": {
        "colab": {
          "base_uri": "https://localhost:8080/"
        },
        "id": "rnShXZQFIkR6",
        "outputId": "07ce3ada-a684-4937-bcc4-f5b088eea769"
      },
      "execution_count": 53,
      "outputs": [
        {
          "output_type": "execute_result",
          "data": {
            "text/plain": [
              "{1, 2, 4, 5, 7, 8}"
            ]
          },
          "metadata": {},
          "execution_count": 53
        }
      ]
    },
    {
      "cell_type": "code",
      "source": [
        "from sympy.combinatorics.named_groups import SymmetricGroup\n",
        "G = SymmetricGroup(4)"
      ],
      "metadata": {
        "id": "LB7u1KeGQYqd"
      },
      "execution_count": 54,
      "outputs": []
    },
    {
      "cell_type": "code",
      "source": [],
      "metadata": {
        "id": "GiuNKsxLQZkL"
      },
      "execution_count": null,
      "outputs": []
    }
  ]
}